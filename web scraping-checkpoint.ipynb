{
 "cells": [
  {
   "cell_type": "code",
   "execution_count": 1,
   "metadata": {},
   "outputs": [
    {
     "data": {
      "text/plain": [
       "'C:\\\\Users\\\\HUAWEI'"
      ]
     },
     "execution_count": 1,
     "metadata": {},
     "output_type": "execute_result"
    }
   ],
   "source": [
    "pwd"
   ]
  },
  {
   "cell_type": "code",
   "execution_count": 2,
   "metadata": {},
   "outputs": [
    {
     "name": "stdout",
     "output_type": "stream",
     "text": [
      "[WinError 2] 系统找不到指定的文件。: 'BABAnews.txt'\n",
      "C:\\Users\\HUAWEI\n"
     ]
    }
   ],
   "source": [
    "cd BABAnews.txt"
   ]
  },
  {
   "cell_type": "code",
   "execution_count": 3,
   "metadata": {},
   "outputs": [
    {
     "name": "stdout",
     "output_type": "stream",
     "text": [
      "C:\\Users\\HUAWEI\\Desktop\n"
     ]
    }
   ],
   "source": [
    "cd Desktop"
   ]
  },
  {
   "cell_type": "code",
   "execution_count": 4,
   "metadata": {},
   "outputs": [
    {
     "name": "stdout",
     "output_type": "stream",
     "text": [
      " 驱动器 C 中的卷是 Windows\n",
      " 卷的序列号是 4068-2005\n",
      "\n",
      " C:\\Users\\HUAWEI\\Desktop 的目录\n",
      "\n",
      "2020/03/20  20:03    <DIR>          .\n",
      "2020/03/20  20:03    <DIR>          ..\n",
      "2020/03/13  12:18             1,145 Anaconda Navigator (anaconda).lnk\n",
      "2020/03/18  13:20    <DIR>          attention please\n",
      "2020/03/17  18:49    <DIR>          ddl\n",
      "2020/03/13  14:03             1,114 Jupyter Notebook (anaconda).lnk\n",
      "2019/12/03  18:57    <DIR>          Leela zero(1)\n",
      "2020/03/06  15:36             2,590 Microsoft Access 2010.lnk\n",
      "2020/02/25  00:24    <DIR>          semester 1\n",
      "2020/03/09  00:37    <DIR>          semester 2\n",
      "2020/03/13  12:20    <DIR>          The Economist\n",
      "2020/03/13  21:39    <DIR>          tools-for-data-science-course\n",
      "2020/01/23  18:49             2,390 爱奇艺.lnk\n",
      "2019/11/17  18:50             1,060 百度网盘.lnk\n",
      "2020/03/02  15:53    <DIR>          计算机二级资料\n",
      "2019/08/19  14:29             1,299 腾讯野狐围棋.lnk\n",
      "2020/03/14  17:41               765 同花顺.lnk\n",
      "               7 个文件         10,363 字节\n",
      "              10 个目录 36,002,914,304 可用字节\n"
     ]
    }
   ],
   "source": [
    "ls"
   ]
  },
  {
   "cell_type": "code",
   "execution_count": 11,
   "metadata": {},
   "outputs": [
    {
     "ename": "FileNotFoundError",
     "evalue": "[Errno 2] No such file or directory: 'Desktop/BABAnews.txt'",
     "output_type": "error",
     "traceback": [
      "\u001b[1;31m---------------------------------------------------------------------------\u001b[0m",
      "\u001b[1;31mFileNotFoundError\u001b[0m                         Traceback (most recent call last)",
      "\u001b[1;32m<ipython-input-11-73901e4a6d82>\u001b[0m in \u001b[0;36m<module>\u001b[1;34m\u001b[0m\n\u001b[1;32m----> 1\u001b[1;33m \u001b[1;32mwith\u001b[0m \u001b[0mopen\u001b[0m\u001b[1;33m(\u001b[0m\u001b[1;34m\"Desktop/BABAnews.txt\"\u001b[0m\u001b[1;33m,\u001b[0m \u001b[0mmode\u001b[0m \u001b[1;33m=\u001b[0m \u001b[1;34m'r'\u001b[0m\u001b[1;33m)\u001b[0m \u001b[1;32mas\u001b[0m \u001b[0mmyfile\u001b[0m\u001b[1;33m:\u001b[0m\u001b[1;33m\u001b[0m\u001b[1;33m\u001b[0m\u001b[0m\n\u001b[0m\u001b[0;32m      2\u001b[0m     \u001b[0mprint\u001b[0m\u001b[1;33m(\u001b[0m\u001b[0mmyfile\u001b[0m\u001b[1;33m.\u001b[0m\u001b[0mread\u001b[0m\u001b[1;33m(\u001b[0m\u001b[1;33m)\u001b[0m\u001b[1;33m)\u001b[0m\u001b[1;33m\u001b[0m\u001b[1;33m\u001b[0m\u001b[0m\n",
      "\u001b[1;31mFileNotFoundError\u001b[0m: [Errno 2] No such file or directory: 'Desktop/BABAnews.txt'"
     ]
    }
   ],
   "source": [
    "with open(\"Desktop/BABAnews.txt\", mode = 'r') as myfile:\n",
    "    print(myfile.read())"
   ]
  },
  {
   "cell_type": "code",
   "execution_count": 8,
   "metadata": {},
   "outputs": [
    {
     "name": "stdout",
     "output_type": "stream",
     "text": [
      " 驱动器 C 中的卷是 Windows\n",
      " 卷的序列号是 4068-2005\n",
      "\n",
      " C:\\Users\\HUAWEI\\Desktop 的目录\n",
      "\n",
      "2020/03/20  20:03    <DIR>          .\n",
      "2020/03/20  20:03    <DIR>          ..\n",
      "2020/03/13  12:18             1,145 Anaconda Navigator (anaconda).lnk\n",
      "2020/03/18  13:20    <DIR>          attention please\n",
      "2020/03/17  18:49    <DIR>          ddl\n",
      "2020/03/13  14:03             1,114 Jupyter Notebook (anaconda).lnk\n",
      "2019/12/03  18:57    <DIR>          Leela zero(1)\n",
      "2020/03/06  15:36             2,590 Microsoft Access 2010.lnk\n",
      "2020/02/25  00:24    <DIR>          semester 1\n",
      "2020/03/09  00:37    <DIR>          semester 2\n",
      "2020/03/13  12:20    <DIR>          The Economist\n",
      "2020/03/13  21:39    <DIR>          tools-for-data-science-course\n",
      "2020/01/23  18:49             2,390 爱奇艺.lnk\n",
      "2019/11/17  18:50             1,060 百度网盘.lnk\n",
      "2020/03/02  15:53    <DIR>          计算机二级资料\n",
      "2019/08/19  14:29             1,299 腾讯野狐围棋.lnk\n",
      "2020/03/14  17:41               765 同花顺.lnk\n",
      "               7 个文件         10,363 字节\n",
      "              10 个目录 36,002,795,520 可用字节\n"
     ]
    }
   ],
   "source": [
    "ls"
   ]
  },
  {
   "cell_type": "code",
   "execution_count": 9,
   "metadata": {},
   "outputs": [
    {
     "name": "stdout",
     "output_type": "stream",
     "text": [
      " 驱动器 C 中的卷是 Windows\n",
      " 卷的序列号是 4068-2005\n",
      "\n",
      " C:\\Users\\HUAWEI\\Desktop 的目录\n",
      "\n",
      "2020/03/20  20:12    <DIR>          .\n",
      "2020/03/20  20:12    <DIR>          ..\n",
      "2020/03/13  12:18             1,145 Anaconda Navigator (anaconda).lnk\n",
      "2020/03/18  13:20    <DIR>          attention please\n",
      "2017/05/11  08:07             2,734 BABAnews.txt\n",
      "2020/03/17  18:49    <DIR>          ddl\n",
      "2020/03/13  14:03             1,114 Jupyter Notebook (anaconda).lnk\n",
      "2019/12/03  18:57    <DIR>          Leela zero(1)\n",
      "2020/03/06  15:36             2,590 Microsoft Access 2010.lnk\n",
      "2020/02/25  00:24    <DIR>          semester 1\n",
      "2020/03/09  00:37    <DIR>          semester 2\n",
      "2020/03/13  12:20    <DIR>          The Economist\n",
      "2020/03/13  21:39    <DIR>          tools-for-data-science-course\n",
      "2020/01/23  18:49             2,390 爱奇艺.lnk\n",
      "2019/11/17  18:50             1,060 百度网盘.lnk\n",
      "2020/03/02  15:53    <DIR>          计算机二级资料\n",
      "2019/08/19  14:29             1,299 腾讯野狐围棋.lnk\n",
      "2020/03/14  17:41               765 同花顺.lnk\n",
      "               8 个文件         13,097 字节\n",
      "              10 个目录 36,002,230,272 可用字节\n"
     ]
    }
   ],
   "source": [
    "ls"
   ]
  },
  {
   "cell_type": "code",
   "execution_count": 12,
   "metadata": {},
   "outputs": [
    {
     "ename": "FileNotFoundError",
     "evalue": "[Errno 2] No such file or directory: 'Desktop/BABAnews.txt'",
     "output_type": "error",
     "traceback": [
      "\u001b[1;31m---------------------------------------------------------------------------\u001b[0m",
      "\u001b[1;31mFileNotFoundError\u001b[0m                         Traceback (most recent call last)",
      "\u001b[1;32m<ipython-input-12-73901e4a6d82>\u001b[0m in \u001b[0;36m<module>\u001b[1;34m\u001b[0m\n\u001b[1;32m----> 1\u001b[1;33m \u001b[1;32mwith\u001b[0m \u001b[0mopen\u001b[0m\u001b[1;33m(\u001b[0m\u001b[1;34m\"Desktop/BABAnews.txt\"\u001b[0m\u001b[1;33m,\u001b[0m \u001b[0mmode\u001b[0m \u001b[1;33m=\u001b[0m \u001b[1;34m'r'\u001b[0m\u001b[1;33m)\u001b[0m \u001b[1;32mas\u001b[0m \u001b[0mmyfile\u001b[0m\u001b[1;33m:\u001b[0m\u001b[1;33m\u001b[0m\u001b[1;33m\u001b[0m\u001b[0m\n\u001b[0m\u001b[0;32m      2\u001b[0m     \u001b[0mprint\u001b[0m\u001b[1;33m(\u001b[0m\u001b[0mmyfile\u001b[0m\u001b[1;33m.\u001b[0m\u001b[0mread\u001b[0m\u001b[1;33m(\u001b[0m\u001b[1;33m)\u001b[0m\u001b[1;33m)\u001b[0m\u001b[1;33m\u001b[0m\u001b[1;33m\u001b[0m\u001b[0m\n",
      "\u001b[1;31mFileNotFoundError\u001b[0m: [Errno 2] No such file or directory: 'Desktop/BABAnews.txt'"
     ]
    }
   ],
   "source": [
    "with open(\"Desktop/BABAnews.txt\", mode = 'r') as myfile:\n",
    "    print(myfile.read())"
   ]
  },
  {
   "cell_type": "code",
   "execution_count": 13,
   "metadata": {},
   "outputs": [
    {
     "data": {
      "text/plain": [
       "'C:\\\\Users\\\\HUAWEI\\\\Desktop'"
      ]
     },
     "execution_count": 13,
     "metadata": {},
     "output_type": "execute_result"
    }
   ],
   "source": [
    "pwd"
   ]
  },
  {
   "cell_type": "code",
   "execution_count": 19,
   "metadata": {},
   "outputs": [
    {
     "name": "stdout",
     "output_type": "stream",
     "text": [
      "    从2009年淘宝商城的促销活动，到2016年天猫商城全天交易额超越1207亿，“双十一”经过八年的升温，已经逐渐成长能够影响世界的中国电子商务行业年度盛事。在风光的“双十一”背后，技术保障团队又有什么样鲜为人知的故事呢？4月12日，阿里巴巴技术团队在京召开了分享会，独家揭秘“双十一”背后的“故事”，同时向大家推荐了题为《尽在双11——阿里巴巴技术演进与超越》的互联网丛书。\n",
      "    作为迄今为止，阿里巴巴集团唯一官方出品、全面阐述双 11 八年以来在技术和商业上演进和创新历程的书籍，《尽在双11——阿里巴巴技术演进与超越》由电子工业出版社博文视点与阿里巴巴联合出版。本书从五个方面全面精炼生动地进行剖析，揭秘世界奇迹双11背后的技术演进与创新，内容涵盖了双 11 背景下阿里技术架构八年来的演进，如何确保稳定性这条双 11 生命线的安全和可靠，技术和商业交织发展的历程，无线和互动的持续创新与突破，以及对商家的赋能和生态的促进与繁荣。\n",
      "    “1秒钟同时完成12万笔支付、单日交易额定格在1207亿元、每秒同时创建17.5万笔订单……”在这一串惊人的数字背后，蕴藏着技术团队鲜为人知的故事，对于他们来说，每年双11最紧张的就是午夜零点难以想象的流量。会议现场，双十一技术团部大队长陈琴、双十一稳定性负责人丁宇、认知计算实验室负责人袁泉分别从各自负责的业务板块，向大家细致解读了“双十一”背后，技术团队所付出的艰辛。三位负责人纷纷表示，他们分享的内容都包含在《尽在双11——阿里巴巴技术演进与超越》一书中，是双11八年成长经验与技术创新的总结，也是阿里成长中摸索出的方法和方向的汇聚，更是诸多技术同学与技术大神的倾囊分享。\n",
      "    阿里巴巴集团CEO张勇，对该书给予了高度的肯定。他认为，“《尽在双11——阿里巴巴技术演进与超越》以双11为着眼点，从技术的角度，展示了阿里巴巴的演进、变革与发展，系统地阐述了阿里巴巴重要阶段的技术进步历程。进无止境，我们希望将我们的经验分享给更多人，并希望与大家一起共同探索未来。”\n",
      "    阿里巴巴集团CTO张剑锋也力荐《尽在双11——阿里巴巴技术演进与超越》一书。他说，“《尽在双11——阿里巴巴技术演进与超越》是对“双11”技术演进客观、翔实的还原，迄今为止还没有类似的其他书。”（周靖杰）\n",
      "\n"
     ]
    }
   ],
   "source": [
    "with open(\"BABAnews.txt\",mode='r',encoding='UTF-8') as myfile:\n",
    "    print(myfile.read())"
   ]
  },
  {
   "cell_type": "markdown",
   "metadata": {},
   "source": []
  }
 ],
 "metadata": {
  "kernelspec": {
   "display_name": "Python 3",
   "language": "python",
   "name": "python3"
  },
  "language_info": {
   "codemirror_mode": {
    "name": "ipython",
    "version": 3
   },
   "file_extension": ".py",
   "mimetype": "text/x-python",
   "name": "python",
   "nbconvert_exporter": "python",
   "pygments_lexer": "ipython3",
   "version": "3.7.4"
  }
 },
 "nbformat": 4,
 "nbformat_minor": 2
}
